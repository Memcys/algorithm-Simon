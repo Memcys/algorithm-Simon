{
 "cells": [
  {
   "cell_type": "code",
   "execution_count": 2,
   "metadata": {
    "vscode": {
     "languageId": "python"
    }
   },
   "outputs": [],
   "source": [
    "from quafu import User\n",
    "user = User()\n",
    "user.save_apitoken(input(\"Please input your API Token:\\n\"))"
   ]
  },
  {
   "cell_type": "markdown",
   "metadata": {},
   "source": [
    "You need to run the above cell only for the first time."
   ]
  },
  {
   "cell_type": "code",
   "execution_count": 2,
   "metadata": {
    "vscode": {
     "languageId": "python"
    }
   },
   "outputs": [],
   "source": [
    "from algosimon import Simon, CheckCircuit"
   ]
  },
  {
   "cell_type": "code",
   "execution_count": 3,
   "metadata": {
    "vscode": {
     "languageId": "python"
    }
   },
   "outputs": [],
   "source": [
    "Ndata = 5\n",
    "\n",
    "q = Simon(Ndata=Ndata)\n",
    "\n",
    "# q.bstr = '0'\n",
    "qres = q.run()"
   ]
  },
  {
   "cell_type": "code",
   "execution_count": 4,
   "metadata": {
    "vscode": {
     "languageId": "python"
    }
   },
   "outputs": [
    {
     "data": {
      "text/plain": [
       "'11010'"
      ]
     },
     "execution_count": 4,
     "metadata": {},
     "output_type": "execute_result"
    }
   ],
   "source": [
    "q.bstr"
   ]
  },
  {
   "cell_type": "code",
   "execution_count": 5,
   "metadata": {
    "vscode": {
     "languageId": "python"
    }
   },
   "outputs": [
    {
     "data": {
      "text/plain": [
       "[]"
      ]
     },
     "execution_count": 5,
     "metadata": {},
     "output_type": "execute_result"
    }
   ],
   "source": [
    "checker = CheckCircuit(qres)\n",
    "mat = checker.mat\n",
    "\n",
    "# * Try yourself by varying N to get the optimal results\n",
    "N = 2 * q.Ndata\n",
    "X = mat[:N]\n",
    "\n",
    "btrial = checker.solve(X)\n",
    "btrial"
   ]
  },
  {
   "cell_type": "code",
   "execution_count": 6,
   "metadata": {
    "vscode": {
     "languageId": "python"
    }
   },
   "outputs": [
    {
     "data": {
      "text/plain": [
       "'01011'"
      ]
     },
     "execution_count": 6,
     "metadata": {},
     "output_type": "execute_result"
    }
   ],
   "source": [
    "q.qstr"
   ]
  },
  {
   "cell_type": "code",
   "execution_count": 8,
   "metadata": {
    "vscode": {
     "languageId": "python"
    }
   },
   "outputs": [
    {
     "data": {
      "text/plain": [
       "2"
      ]
     },
     "execution_count": 8,
     "metadata": {},
     "output_type": "execute_result"
    }
   ],
   "source": [
    "# Suppose you know the secret b, N should always be no larger than Nmax\n",
    "Nmax = checker.Nmax(simon=q)\n",
    "Nmax"
   ]
  },
  {
   "cell_type": "code",
   "execution_count": 9,
   "metadata": {
    "vscode": {
     "languageId": "python"
    }
   },
   "outputs": [
    {
     "data": {
      "text/plain": [
       "True"
      ]
     },
     "execution_count": 9,
     "metadata": {},
     "output_type": "execute_result"
    }
   ],
   "source": [
    "checker.check(simon=q)"
   ]
  },
  {
   "cell_type": "code",
   "execution_count": 10,
   "metadata": {
    "vscode": {
     "languageId": "python"
    }
   },
   "outputs": [
    {
     "name": "stdout",
     "output_type": "stream",
     "text": [
      "q[0]  -H--*--------------*--*--H- M->c[0]\n",
      "          |              |  |    \n",
      "q[1]  -H--|--*-----------|--|--H- M->c[1]\n",
      "          |  |           |  |    \n",
      "q[2]  -H--|--|--*--------|--|--H- M->c[2]\n",
      "          |  |  |        |  |    \n",
      "q[3]  -H--|--|--|--*-----|--|--H- M->c[3]\n",
      "          |  |  |  |     |  |    \n",
      "q[4]  -H--|--|--|--|--*--|--|--H- M->c[4]\n",
      "          |  |  |  |  |  |  |    \n",
      "q[5]  ----+--|--|--|--|--+--|----\n",
      "             |  |  |  |     |    \n",
      "q[6]  -------+--|--|--|-----|----\n",
      "                |  |  |     |    \n",
      "q[7]  ----------+--|--|-----|----\n",
      "                   |  |     |    \n",
      "q[8]  -------------+--|-----|----\n",
      "                      |     |    \n",
      "q[9]  ----------------+-----+----\n"
     ]
    }
   ],
   "source": [
    "q.draw_circuit()"
   ]
  }
 ],
 "metadata": {
  "kernelspec": {
   "display_name": "SageMath",
   "language": "sagemath",
   "name": "sagemath"
  },
  "language_info": {
   "codemirror_mode": {
    "name": "ipython",
    "version": 3
   },
   "file_extension": ".py",
   "mimetype": "text/x-python",
   "name": "sagemath",
   "nbconvert_exporter": "python",
   "pygments_lexer": "ipython3",
   "version": "3.10.5"
  },
  "orig_nbformat": 4
 },
 "nbformat": 4,
 "nbformat_minor": 2
}
